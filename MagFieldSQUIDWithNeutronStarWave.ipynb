{
 "metadata": {
  "name": "",
  "signature": "sha256:94687615153c743d63a3b98d1a2aff4a56b49e61eae9291ab0f86965fb95e987"
 },
 "nbformat": 3,
 "nbformat_minor": 0,
 "worksheets": [
  {
   "cells": [
    {
     "cell_type": "code",
     "collapsed": false,
     "input": [
      "%matplotlib inline \n",
      "import matplotlib.pyplot as plt\n",
      "import numpy as np\n",
      "from qutip import *"
     ],
     "language": "python",
     "metadata": {},
     "outputs": [],
     "prompt_number": 1
    },
    {
     "cell_type": "code",
     "collapsed": false,
     "input": [
      "#h = 10**-13 #10**-21 ampletude of gravitational wave\n",
      "D = 10**5 #frequency\n",
      "c = 3*10**8 #speed of light\n",
      "G = 6.67384*10**-11\n",
      "By = 0.000025 #earth field is 25microtesla \n",
      "WV = D/c #wave vector\n",
      "x = 0 #initial point\n",
      "N = 200000 #no. of iterations\n",
      "tlist = np.linspace(0, 50000, N) #time list\n",
      "SX = 1 #dimentions of squid in x dirction\n",
      "SZ = 1#dimentions of squid in z dirction\n",
      "phi0 = 2.067833758*10**-15 #magnetic flux quanta\n",
      "Ic = 1 #squid critical value\n",
      "Ms = 1.989*10**30 #mass of sun\n",
      "M = 2.4*Ms #mass of neutron star\n",
      "R = 12*10**3 #radius of neutron star\n",
      "ge = 1 #neutron star ellipticity\n",
      "rs = 4*10**16 #distance to proxima centauri\n",
      "#all in SI units"
     ],
     "language": "python",
     "metadata": {},
     "outputs": [],
     "prompt_number": 63
    },
    {
     "cell_type": "code",
     "collapsed": false,
     "input": [
      "#ampletude of GW \n",
      "h = (G*M*(R**2)*(D**2)*ge)/((c**4)*rs)\n",
      "h"
     ],
     "language": "python",
     "metadata": {},
     "outputs": [
      {
       "metadata": {},
       "output_type": "pyout",
       "prompt_number": 64,
       "text": [
        "1.4159218944000002e-12"
       ]
      }
     ],
     "prompt_number": 64
    },
    {
     "cell_type": "code",
     "collapsed": false,
     "input": [
      "#magnetic field in GW\n",
      "B = []\n",
      "for t in tlist:\n",
      "    b = By #+1/2*By*(h*WV*np.sin(WV*(t-x)))/(-1-h*np.cos(WV*(t-x)))\n",
      "    B.append(b)\n",
      "    "
     ],
     "language": "python",
     "metadata": {},
     "outputs": [],
     "prompt_number": 65
    },
    {
     "cell_type": "code",
     "collapsed": false,
     "input": [
      "#squid area in GW\n",
      "S = []\n",
      "for t in tlist:\n",
      "    SZW = np.sqrt(1/(1+h*np.cos(WV*(t-x))))*SZ\n",
      "    s = SZW*SX \n",
      "    S.append(s)"
     ],
     "language": "python",
     "metadata": {},
     "outputs": [],
     "prompt_number": 66
    },
    {
     "cell_type": "code",
     "collapsed": false,
     "input": [
      "#magnetic flux in GW\n",
      "phi = []\n",
      "P = []\n",
      "for t in range(N):\n",
      "    PHI = B[t]*S[t]\n",
      "    phi.append(PHI)\n",
      "    p = np.pi*PHI/phi0\n",
      "    P.append(p)"
     ],
     "language": "python",
     "metadata": {},
     "outputs": [],
     "prompt_number": 67
    },
    {
     "cell_type": "code",
     "collapsed": false,
     "input": [
      "#Current mesured by squid\n",
      "I = []\n",
      "for l in range(N):\n",
      "    i = 2*Ic*abs(np.cos(P[l]))\n",
      "    I.append(i)"
     ],
     "language": "python",
     "metadata": {},
     "outputs": [],
     "prompt_number": 68
    },
    {
     "cell_type": "code",
     "collapsed": false,
     "input": [
      "import matplotlib.pyplot as plt\n",
      "plt.plot(tlist, I)\n",
      "plt.show()"
     ],
     "language": "python",
     "metadata": {},
     "outputs": [
      {
       "metadata": {},
       "output_type": "display_data",
       "png": "[encoded data removed]",
       "text": [
        "<matplotlib.figure.Figure at 0x10d2810f0>"
       ]
      }
     ],
     "prompt_number": 69
    },
    {
     "cell_type": "code",
     "collapsed": false,
     "input": [],
     "language": "python",
     "metadata": {},
     "outputs": []
    }
   ],
   "metadata": {}
  }
 ]
}