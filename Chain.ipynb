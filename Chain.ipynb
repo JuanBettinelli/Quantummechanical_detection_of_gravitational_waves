{
 "metadata": {
  "name": "",
  "signature": "sha256:d118b37dcf36132f80f0cfd86e8c8952a3d66748934fc02c178579d72105e742"
 },
 "nbformat": 3,
 "nbformat_minor": 0,
 "worksheets": [
  {
   "cells": [
    {
     "cell_type": "code",
     "collapsed": false,
     "input": [
      "%matplotlib inline \n",
      "import matplotlib.pyplot as plt\n",
      "import numpy as np\n",
      "from qutip import *"
     ],
     "language": "python",
     "metadata": {},
     "outputs": [],
     "prompt_number": 69
    },
    {
     "cell_type": "code",
     "collapsed": false,
     "input": [
      "N = 3\n",
      "\n",
      "\n",
      "\n",
      "sz = []\n",
      "sx = []\n",
      "w = []\n",
      "x = []\n",
      "p = []\n",
      "for i in Nlist: #range(0, (N-1)):\n",
      "    sz.append(sigmaz()) \n",
      "    sx.append(sigmax()) \n",
      "    w.append(1.0*2*np.pi) \n",
      "    x.append(i*1*10**-9)\n",
      "    \n",
      "tlist = np.linspace(0,5,200)\n",
      "\n",
      "c = 3**8\n",
      "E0 = 10**-3\n",
      "W = 0.5*10**5\n",
      "\n",
      "psi0 = basis(2,0)\n",
      "e_ops = [sigmax(), sigmay(), sigmaz()]\n",
      "\n",
      "Nlist\n"
     ],
     "language": "python",
     "metadata": {},
     "outputs": [
      {
       "metadata": {},
       "output_type": "pyout",
       "prompt_number": 70,
       "text": [
        "[0, 1, 2]"
       ]
      }
     ],
     "prompt_number": 70
    },
    {
     "cell_type": "code",
     "collapsed": false,
     "input": [
      "Ht = []\n",
      "H0 = 0\n",
      "E = []\n",
      "for j in Nlist: #range(0, N):\n",
      "    H0 = H0 -w[j]*sz[j]/N\n",
      "    \n",
      "    \n",
      "    #if j != 0:\n",
      "     #   E.append((E0/(N-1))*(np.cos(W*x[j-1]/c-W*tlist)-np.cos(W*x[j]/c-W*tlist)+1*10**-9)\n",
      "    #if j != 0:    \n",
      "     #   Ht.append(sx[j-1]*sx[j])\n",
      "\n",
      "\n",
      "\n",
      "        E1=E0/2*(np.cos(W*x[0]/c-W*tlist)-np.cos(W*x[1]/c-W*tlist)+1*10**-9)\n",
      "        E2=(E0/2)*(np.cos(W*x[1]/c-W*tlist)-np.cos(W*x[2]/c-W*tlist)+1*10**-9)\n",
      "      \n",
      "        Ht1=(sx[0]*sx[1])\n",
      "        Ht2=(sx[1]*sx[2])\n",
      "        \n",
      "#H = [H0]\n",
      "#for k in range(0, N-1):\n",
      "#    H.append([Ht[k], E[k]])\n",
      "\n",
      "    \n",
      "H = [H0,[Ht1,E1,[Ht2,E2]\n",
      "\n"
     ],
     "language": "python",
     "metadata": {},
     "outputs": [
      {
       "ename": "IndentationError",
       "evalue": "unexpected indent (<ipython-input-71-6c2a998bb328>, line 15)",
       "output_type": "pyerr",
       "traceback": [
        "\u001b[0;36m  File \u001b[0;32m\"<ipython-input-71-6c2a998bb328>\"\u001b[0;36m, line \u001b[0;32m15\u001b[0m\n\u001b[0;31m    E1=E0/2*(np.cos(W*x[0]/c-W*tlist)-np.cos(W*x[1]/c-W*tlist)+1*10**-9)\u001b[0m\n\u001b[0m    ^\u001b[0m\n\u001b[0;31mIndentationError\u001b[0m\u001b[0;31m:\u001b[0m unexpected indent\n"
       ]
      }
     ],
     "prompt_number": 71
    },
    {
     "cell_type": "code",
     "collapsed": false,
     "input": [
      "output = mesolve(H, psi0, tlist, [], e_ops) "
     ],
     "language": "python",
     "metadata": {},
     "outputs": [],
     "prompt_number": 40
    },
    {
     "cell_type": "code",
     "collapsed": false,
     "input": [
      "plot_expectation_values(output);"
     ],
     "language": "python",
     "metadata": {},
     "outputs": [
      {
       "metadata": {},
       "output_type": "display_data",
       "png": "[encoded data removed]",
       "text": [
        "<matplotlib.figure.Figure at 0x1100e22e8>"
       ]
      }
     ],
     "prompt_number": 41
    },
    {
     "cell_type": "code",
     "collapsed": false,
     "input": [
      "sxo = output.expect[0]\n",
      "syo = output.expect[1]\n",
      "szo = output.expect[2] \n",
      "\n",
      "fig, ax = plt.subplots(figsize=(12,6))\n",
      "ax.plot(tlist, np.real(sxo), 'r')\n",
      "ax.plot(tlist, np.real(syo), 'b')\n",
      "ax.plot(tlist, np.real(szo), 'g')\n"
     ],
     "language": "python",
     "metadata": {},
     "outputs": [
      {
       "metadata": {},
       "output_type": "pyout",
       "prompt_number": 6,
       "text": [
        "[<matplotlib.lines.Line2D at 0x10fef0d68>]"
       ]
      },
      {
       "metadata": {},
       "output_type": "display_data",
       "png": "[encoded data removed]",
       "text": [
        "<matplotlib.figure.Figure at 0x10fdd6588>"
       ]
      }
     ],
     "prompt_number": 6
    },
    {
     "cell_type": "code",
     "collapsed": false,
     "input": [],
     "language": "python",
     "metadata": {},
     "outputs": []
    }
   ],
   "metadata": {}
  }
 ]
}