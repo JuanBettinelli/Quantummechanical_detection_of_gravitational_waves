{
 "metadata": {
  "name": "",
  "signature": "sha256:7e1d6f2f7f8702a5bb8e1b654234e5e4da1be123f8187ff58c84a4afa3d0e1e5"
 },
 "nbformat": 3,
 "nbformat_minor": 0,
 "worksheets": [
  {
   "cells": [
    {
     "cell_type": "code",
     "collapsed": false,
     "input": [
      "%matplotlib inline "
     ],
     "language": "python",
     "metadata": {},
     "outputs": [],
     "prompt_number": 2
    },
    {
     "cell_type": "code",
     "collapsed": false,
     "input": [
      "import matplotlib.pyplot as plt"
     ],
     "language": "python",
     "metadata": {},
     "outputs": [],
     "prompt_number": 3
    },
    {
     "cell_type": "code",
     "collapsed": false,
     "input": [
      "import numpy as np\n",
      "from math import pi, cos"
     ],
     "language": "python",
     "metadata": {},
     "outputs": [],
     "prompt_number": 4
    },
    {
     "cell_type": "code",
     "collapsed": false,
     "input": [
      "from qutip import *"
     ],
     "language": "python",
     "metadata": {},
     "outputs": [],
     "prompt_number": 5
    },
    {
     "cell_type": "code",
     "collapsed": false,
     "input": [
      "sz1 = sigmaz()\n",
      "sx1 = sigmax()\n",
      "sy1 = sigmay()\n",
      "\n",
      "N = 2000\n",
      "tlist = np.linspace(0,1,N)\n",
      "omega = 5*10*4 #*10*-3 #rad/s angular frequnce \n",
      "PHI0 = 2.06783376*10**-15 # Wb magnetic flux quanta\n",
      "I0 = 1*10**1 #A critical curent 100 micrometer wire\n",
      "e = 1.60217657*10**-19 #C electron chrage\n",
      "Cj = 1*10**-15 #F junction capacitance\n",
      "Cg = 1*10**-15 #F gate capacitenc\n",
      "U = 10**-4 #V voltage\n",
      "h = 1*10**-9 #GW ampletude"
     ],
     "language": "python",
     "metadata": {},
     "outputs": [],
     "prompt_number": 211
    },
    {
     "cell_type": "code",
     "collapsed": false,
     "input": [
      "psi0 = basis(2,0)\n",
      "e_ops = [sigmax(), sigmay(), sigmaz()]"
     ],
     "language": "python",
     "metadata": {},
     "outputs": [],
     "prompt_number": 212
    },
    {
     "cell_type": "code",
     "collapsed": false,
     "input": [
      "phi0 = PHI0/(2*np.pi)\n",
      "Ejmax = 100 #Ejmax = phi0*I0\n",
      "Ez = Ejmax/2\n",
      "\n",
      "Ec = (2*e)**2/(2*(Cj+Cg))\n",
      "\n",
      "ng = Cg*U/(2*e)\n",
      "\n",
      "\n",
      "#PW = h*np.sin(omega*tlist)\n",
      "\n",
      "#Ej = []\n",
      "#for l in range(N):\n",
      "#    ej = abs(np.cos(np.pi*(phi0+PW[l])/phi0))\n",
      "#    Ej.append(ej)\n",
      "eta = 0.005\n",
      "Ec"
     ],
     "language": "python",
     "metadata": {},
     "outputs": [
      {
       "metadata": {},
       "output_type": "pyout",
       "prompt_number": 213,
       "text": [
        "2.5669697614569646e-23"
       ]
      }
     ],
     "prompt_number": 213
    },
    {
     "cell_type": "code",
     "collapsed": false,
     "input": [
      "H0 = -(1/2)*eta*ng*sigmaz()\n",
      "H1 = -(1/2)*sigmax()\n",
      "Et = Ejmax*abs(np.cos(np.pi*(1/4+(h*np.sin(omega*tlist)))))"
     ],
     "language": "python",
     "metadata": {},
     "outputs": [],
     "prompt_number": 214
    },
    {
     "cell_type": "code",
     "collapsed": false,
     "input": [
      "H = [H0,[H1,Et]]"
     ],
     "language": "python",
     "metadata": {},
     "outputs": [],
     "prompt_number": 215
    },
    {
     "cell_type": "code",
     "collapsed": false,
     "input": [
      "output = mesolve(H, psi0, tlist, [], [sigmax(), sigmay(), sigmaz()]) "
     ],
     "language": "python",
     "metadata": {},
     "outputs": [],
     "prompt_number": 216
    },
    {
     "cell_type": "code",
     "collapsed": false,
     "input": [
      "fig, axes = plt.subplots(1,1)\n",
      "#plt.axis([0, 0.2, (-0.000000000000000000005), (0.000000000000000000005)])\n",
      "#axes.plot(tlist, output.expect[2], label=r'$\\left<\\sigma_z\\right>$')\n",
      "axes.plot(tlist, output.expect[1], label=r'$\\left<\\sigma_y\\right>$')\n",
      "axes.plot(tlist, output.expect[0], label=r'$\\left<\\sigma_x\\right>$')\n",
      "\n",
      "axes.set_xlabel(r'$t$', fontsize=20)\n",
      "axes.legend(loc=2);"
     ],
     "language": "python",
     "metadata": {},
     "outputs": [
      {
       "metadata": {},
       "output_type": "display_data",
       "png": "[encoded data removed]",
       "text": [
        "<matplotlib.figure.Figure at 0x1154f0940>"
       ]
      }
     ],
     "prompt_number": 217
    },
    {
     "cell_type": "code",
     "collapsed": false,
     "input": [
      "fig, axes = plt.subplots(1,1)\n",
      "axes.plot(tlist, Et, label=r'$\\left<\\sigma_y\\right>$')"
     ],
     "language": "python",
     "metadata": {},
     "outputs": [
      {
       "metadata": {},
       "output_type": "pyout",
       "prompt_number": 210,
       "text": [
        "[<matplotlib.lines.Line2D at 0x116627710>]"
       ]
      },
      {
       "metadata": {},
       "output_type": "display_data",
       "png": "[encoded data removed]",
       "text": [
        "<matplotlib.figure.Figure at 0x116627940>"
       ]
      }
     ],
     "prompt_number": 210
    },
    {
     "cell_type": "code",
     "collapsed": false,
     "input": [],
     "language": "python",
     "metadata": {},
     "outputs": [],
     "prompt_number": 163
    },
    {
     "cell_type": "code",
     "collapsed": false,
     "input": [
      "+(h*np.sin(omega*tlist))"
     ],
     "language": "python",
     "metadata": {},
     "outputs": [
      {
       "metadata": {},
       "output_type": "pyout",
       "prompt_number": 155,
       "text": [
        "array([ -0.00000000e+00,  -5.00041505e-23,  -9.98831916e-23, ...,\n",
        "         5.89964554e-22,   5.48851705e-22,   5.06365641e-22])"
       ]
      }
     ],
     "prompt_number": 155
    },
    {
     "cell_type": "code",
     "collapsed": false,
     "input": [
      "Et"
     ],
     "language": "python",
     "metadata": {},
     "outputs": [
      {
       "metadata": {},
       "output_type": "pyout",
       "prompt_number": 189,
       "text": [
        "array([ 7071.06781187,  7071.06781187,  7071.06781187, ...,  7071.06781187,\n",
        "        7071.06781187,  7071.06781187])"
       ]
      }
     ],
     "prompt_number": 189
    },
    {
     "cell_type": "code",
     "collapsed": false,
     "input": [],
     "language": "python",
     "metadata": {},
     "outputs": []
    }
   ],
   "metadata": {}
  }
 ]
}