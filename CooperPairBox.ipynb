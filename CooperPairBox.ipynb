{
 "metadata": {
  "name": "",
  "signature": "sha256:590f498e19ea75a6d410629fd89c6a9101d59d0c696f42d7cc491fc5db7e9331"
 },
 "nbformat": 3,
 "nbformat_minor": 0,
 "worksheets": [
  {
   "cells": [
    {
     "cell_type": "code",
     "collapsed": false,
     "input": [
      "%matplotlib inline #downloding math tool and quantum tool box"
     ],
     "language": "python",
     "metadata": {},
     "outputs": [],
     "prompt_number": 25
    },
    {
     "cell_type": "code",
     "collapsed": false,
     "input": [
      "import matplotlib.pyplot as plt"
     ],
     "language": "python",
     "metadata": {},
     "outputs": [],
     "prompt_number": 26
    },
    {
     "cell_type": "code",
     "collapsed": false,
     "input": [
      "import numpy as np\n",
      "from math import pi, cos"
     ],
     "language": "python",
     "metadata": {},
     "outputs": [],
     "prompt_number": 27
    },
    {
     "cell_type": "code",
     "collapsed": false,
     "input": [
      "from qutip import *"
     ],
     "language": "python",
     "metadata": {},
     "outputs": [],
     "prompt_number": 28
    },
    {
     "cell_type": "code",
     "collapsed": false,
     "input": [
      "sz1 = sigmaz()  #Pauli spin operators\n",
      "sx1 = sigmax()\n",
      "sy1 = sigmay()\n",
      "\n",
      "tlist = np.linspace(0,10,2000)  #Time list\n",
      "omega = 5*10**3  #rad/s angular frequnce \n",
      "PHI0 = 2.06783376*10**-15 # Wb magnetic flux quanta\n",
      "I0 = 1*10**-2 #A critical curent 100 micrometer wire\n",
      "e = 1.60217657*10**-19 #C electron chrage\n",
      "Cj = 1*10**-23 #F junction capacitance\n",
      "Cg = 1*10**-23 #F gate capacitenc\n",
      "U = 1 #V voltage\n",
      "h = 1*10**-21 #GW ampletude"
     ],
     "language": "python",
     "metadata": {},
     "outputs": [],
     "prompt_number": 29
    },
    {
     "cell_type": "code",
     "collapsed": false,
     "input": [
      "psi0 = basis(2,0) #initial state \n",
      "e_ops = [sigmax(), sigmay(), sigmaz()]  #operators for master equation solve"
     ],
     "language": "python",
     "metadata": {},
     "outputs": [],
     "prompt_number": 30
    },
    {
     "cell_type": "code",
     "collapsed": false,
     "input": [
      "phi0 = PHI0/(2*np.pi)  # defining the Hamiltonian\n",
      "Ej = phi0*I0\n",
      "Ez = Ej/2\n",
      "Ec = (2*e)**2/(2*(Cj+Cg))"
     ],
     "language": "python",
     "metadata": {},
     "outputs": [],
     "prompt_number": 31
    },
    {
     "cell_type": "code",
     "collapsed": false,
     "input": [
      "H0 = -0.5*sigmaz()\n",
      "H1 = -0.5*(Ec/Ej)*sigmax()\n",
      "Et = h*np.cos(omega*tlist)-0.001"
     ],
     "language": "python",
     "metadata": {},
     "outputs": [],
     "prompt_number": 32
    },
    {
     "cell_type": "code",
     "collapsed": false,
     "input": [
      "H = [H0,[H1,Et]]  # implementine Hamiltonian"
     ],
     "language": "python",
     "metadata": {},
     "outputs": [],
     "prompt_number": 33
    },
    {
     "cell_type": "code",
     "collapsed": false,
     "input": [
      "output = mesolve(H, psi0, tlist, [], [sigmax(), sigmay(), sigmaz()]) "
     ],
     "language": "python",
     "metadata": {},
     "outputs": [],
     "prompt_number": 34
    },
    {
     "cell_type": "code",
     "collapsed": false,
     "input": [
      "fig, axes = plt.subplots(1,1) #plot results\n",
      "axes.plot(tlist, output.expect[2], label=r'$\\left<\\sigma_z\\right>$')\n",
      "axes.plot(tlist, output.expect[1], label=r'$\\left<\\sigma_y\\right>$')\n",
      "axes.plot(tlist, output.expect[0], label=r'$\\left<\\sigma_x\\right>$')\n",
      "axes.set_xlabel(r'$t/s$', fontsize=20)\n",
      "axes.legend(loc=2);"
     ],
     "language": "python",
     "metadata": {},
     "outputs": [
      {
       "metadata": {},
       "output_type": "display_data",
       "png": "[encoded data removed]",
       "text": [
        "<matplotlib.figure.Figure at 0x110ab9978>"
       ]
      }
     ],
     "prompt_number": 36
    },
    {
     "cell_type": "code",
     "collapsed": false,
     "input": [],
     "language": "python",
     "metadata": {},
     "outputs": [],
     "prompt_number": 467
    },
    {
     "cell_type": "code",
     "collapsed": false,
     "input": [],
     "language": "python",
     "metadata": {},
     "outputs": [],
     "prompt_number": 32
    },
    {
     "cell_type": "code",
     "collapsed": false,
     "input": [],
     "language": "python",
     "metadata": {},
     "outputs": [],
     "prompt_number": 134
    },
    {
     "cell_type": "code",
     "collapsed": false,
     "input": [],
     "language": "python",
     "metadata": {},
     "outputs": [],
     "prompt_number": 134
    },
    {
     "cell_type": "code",
     "collapsed": false,
     "input": [],
     "language": "python",
     "metadata": {},
     "outputs": []
    }
   ],
   "metadata": {}
  }
 ]
}