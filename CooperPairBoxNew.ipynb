{
 "metadata": {
  "name": "",
  "signature": "sha256:0f9b443903675412d5e8adf5edb1887a708819c10011cfef83471fd92ac88d5e"
 },
 "nbformat": 3,
 "nbformat_minor": 0,
 "worksheets": [
  {
   "cells": [
    {
     "cell_type": "code",
     "collapsed": false,
     "input": [
      "%matplotlib inline "
     ],
     "language": "python",
     "metadata": {},
     "outputs": [],
     "prompt_number": 172
    },
    {
     "cell_type": "code",
     "collapsed": false,
     "input": [
      "import matplotlib.pyplot as plt"
     ],
     "language": "python",
     "metadata": {},
     "outputs": [],
     "prompt_number": 173
    },
    {
     "cell_type": "code",
     "collapsed": false,
     "input": [
      "import numpy as np\n",
      "from math import pi, cos"
     ],
     "language": "python",
     "metadata": {},
     "outputs": [],
     "prompt_number": 174
    },
    {
     "cell_type": "code",
     "collapsed": false,
     "input": [
      "from qutip import *"
     ],
     "language": "python",
     "metadata": {},
     "outputs": [],
     "prompt_number": 175
    },
    {
     "cell_type": "code",
     "collapsed": false,
     "input": [
      "sz1 = sigmaz()\n",
      "sx1 = sigmax()\n",
      "sy1 = sigmay()\n",
      "\n",
      "tlist = np.linspace(0,5,2000)\n",
      "omega = 5*10*4 #*10*-3 #rad/s angular frequnce \n",
      "PHI0 = 2.06783376*10**-15 # Wb magnetic flux quanta\n",
      "I0 = 1*10**-9 #A critical curent 100 micrometer wire\n",
      "e = 1.60217657*10**-19 #C electron chrage\n",
      "Cj = 1*10**-15 #F junction capacitance\n",
      "Cg = 1*10**-15 #F gate capacitenc\n",
      "U = 1 #V voltage\n",
      "h = 1*10**-21 #GW ampletude"
     ],
     "language": "python",
     "metadata": {},
     "outputs": [],
     "prompt_number": 176
    },
    {
     "cell_type": "code",
     "collapsed": false,
     "input": [
      "psi0 = basis(2,0)\n",
      "e_ops = [sigmax(), sigmay(), sigmaz()]"
     ],
     "language": "python",
     "metadata": {},
     "outputs": [],
     "prompt_number": 177
    },
    {
     "cell_type": "code",
     "collapsed": false,
     "input": [
      "phi0 = PHI0/(2*np.pi)\n",
      "Ej = phi0*I0\n",
      "Ez = Ej/2\n",
      "\n",
      "Ec = (2*e)**2/(2*(Cj+Cg))\n",
      "Ez"
     ],
     "language": "python",
     "metadata": {},
     "outputs": [
      {
       "metadata": {},
       "output_type": "pyout",
       "prompt_number": 178,
       "text": [
        "1.6455298219815004e-25"
       ]
      }
     ],
     "prompt_number": 178
    },
    {
     "cell_type": "code",
     "collapsed": false,
     "input": [
      "H0 = -Ez*sigmaz()  #Ez to small\n",
      "H1 = -Ez*(Ec/Ej)*sigmax()\n",
      "Et = h*np.cos(omega*tlist) #add permutation\n",
      "Et"
     ],
     "language": "python",
     "metadata": {},
     "outputs": [
      {
       "metadata": {},
       "output_type": "pyout",
       "prompt_number": 179,
       "text": [
        "array([  1.00000000e-21,   8.77462618e-22,   5.39881292e-22, ...,\n",
        "         9.99636491e-22,   8.90075278e-22,   5.62379076e-22])"
       ]
      }
     ],
     "prompt_number": 179
    },
    {
     "cell_type": "code",
     "collapsed": false,
     "input": [
      "H = [H0,[H1,Et]]"
     ],
     "language": "python",
     "metadata": {},
     "outputs": [],
     "prompt_number": 180
    },
    {
     "cell_type": "code",
     "collapsed": false,
     "input": [
      "output = mesolve(H, psi0, tlist, [], [sigmax(), sigmay(), sigmaz()]) "
     ],
     "language": "python",
     "metadata": {},
     "outputs": [],
     "prompt_number": 181
    },
    {
     "cell_type": "code",
     "collapsed": false,
     "input": [
      "fig, axes = plt.subplots(1,1)\n",
      "plt.axis([0, 0.2, (-0.000000000000000000005), (0.000000000000000000005)])\n",
      "axes.plot(tlist, output.expect[2], label=r'$\\left<\\sigma_z\\right>$')\n",
      "axes.plot(tlist, output.expect[1], label=r'$\\left<\\sigma_y\\right>$')\n",
      "axes.plot(tlist, output.expect[0], label=r'$\\left<\\sigma_x\\right>$')\n",
      "\n",
      "axes.set_xlabel(r'$t$', fontsize=20)\n",
      "axes.legend(loc=2);"
     ],
     "language": "python",
     "metadata": {},
     "outputs": [
      {
       "metadata": {},
       "output_type": "display_data",
       "png": "[encoded data removed]",
       "text": [
        "<matplotlib.figure.Figure at 0x11219b6d8>"
       ]
      }
     ],
     "prompt_number": 182
    },
    {
     "cell_type": "code",
     "collapsed": false,
     "input": [],
     "language": "python",
     "metadata": {},
     "outputs": [],
     "prompt_number": 467
    },
    {
     "cell_type": "code",
     "collapsed": false,
     "input": [],
     "language": "python",
     "metadata": {},
     "outputs": [],
     "prompt_number": 32
    },
    {
     "cell_type": "code",
     "collapsed": false,
     "input": [],
     "language": "python",
     "metadata": {},
     "outputs": [],
     "prompt_number": 134
    },
    {
     "cell_type": "code",
     "collapsed": false,
     "input": [],
     "language": "python",
     "metadata": {},
     "outputs": [],
     "prompt_number": 134
    },
    {
     "cell_type": "code",
     "collapsed": false,
     "input": [],
     "language": "python",
     "metadata": {},
     "outputs": []
    }
   ],
   "metadata": {}
  }
 ]
}