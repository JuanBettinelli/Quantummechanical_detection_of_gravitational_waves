{
 "metadata": {
  "name": "",
  "signature": "sha256:120e4b22de6028275a5c1181ad0212badeefd3b4361a61b42b3e9a4732187c99"
 },
 "nbformat": 3,
 "nbformat_minor": 0,
 "worksheets": [
  {
   "cells": [
    {
     "cell_type": "code",
     "collapsed": false,
     "input": [
      "%matplotlib inline\n",
      "import matplotlib.pyplot as plt\n",
      "import numpy as np\n",
      "from qutip import *"
     ],
     "language": "python",
     "metadata": {},
     "outputs": [],
     "prompt_number": 1
    },
    {
     "cell_type": "code",
     "collapsed": false,
     "input": [
      "mu0 = 1.256\n",
      "m = 14*10**-27 #1.66*10**-27\n",
      "W = 10*5\n",
      "tlist = np.linspace(0, 5, 200)\n",
      "R0 = 0.01\n",
      "R1 = 10**-20\n",
      "#how is r and m defind?\n",
      "\n",
      "psi0 = qeye(2)\n",
      "\n",
      "R = R0+ R1*np.cos(tlist*W)\n",
      "\n",
      "H1 = 1/(R**3)\n",
      "\n",
      "H0 = -(mu0/4*np.pi)*2*m**2   #(3*(m*r)*(m*r)-m*m)\n",
      "\n",
      "H = [H0,H1]\n"
     ],
     "language": "python",
     "metadata": {},
     "outputs": [],
     "prompt_number": 5
    },
    {
     "cell_type": "code",
     "collapsed": false,
     "input": [
      "output = mesolve(H, psi0, tlist, [], [])\n",
      "sx = output.expect[0]\n",
      "sy = output.expect[1]\n",
      "sz = output.expect[2] "
     ],
     "language": "python",
     "metadata": {},
     "outputs": [
      {
       "ename": "TypeError",
       "evalue": "Incorrect specification of time-dependent Hamiltonian (expected string format)",
       "output_type": "pyerr",
       "traceback": [
        "\u001b[0;31m---------------------------------------------------------------------------\u001b[0m\n\u001b[0;31mTypeError\u001b[0m                                 Traceback (most recent call last)",
        "\u001b[0;32m<ipython-input-6-9abbe5911ef3>\u001b[0m in \u001b[0;36m<module>\u001b[0;34m()\u001b[0m\n\u001b[0;32m----> 1\u001b[0;31m \u001b[0moutput\u001b[0m \u001b[0;34m=\u001b[0m \u001b[0mmesolve\u001b[0m\u001b[0;34m(\u001b[0m\u001b[0mH\u001b[0m\u001b[0;34m,\u001b[0m \u001b[0mpsi0\u001b[0m\u001b[0;34m,\u001b[0m \u001b[0mtlist\u001b[0m\u001b[0;34m,\u001b[0m \u001b[0;34m[\u001b[0m\u001b[0;34m]\u001b[0m\u001b[0;34m,\u001b[0m \u001b[0;34m[\u001b[0m\u001b[0;34m]\u001b[0m\u001b[0;34m)\u001b[0m\u001b[0;34m\u001b[0m\u001b[0m\n\u001b[0m\u001b[1;32m      2\u001b[0m \u001b[0msx\u001b[0m \u001b[0;34m=\u001b[0m \u001b[0moutput\u001b[0m\u001b[0;34m.\u001b[0m\u001b[0mexpect\u001b[0m\u001b[0;34m[\u001b[0m\u001b[0;36m0\u001b[0m\u001b[0;34m]\u001b[0m\u001b[0;34m\u001b[0m\u001b[0m\n\u001b[1;32m      3\u001b[0m \u001b[0msy\u001b[0m \u001b[0;34m=\u001b[0m \u001b[0moutput\u001b[0m\u001b[0;34m.\u001b[0m\u001b[0mexpect\u001b[0m\u001b[0;34m[\u001b[0m\u001b[0;36m1\u001b[0m\u001b[0;34m]\u001b[0m\u001b[0;34m\u001b[0m\u001b[0m\n\u001b[1;32m      4\u001b[0m \u001b[0msz\u001b[0m \u001b[0;34m=\u001b[0m \u001b[0moutput\u001b[0m\u001b[0;34m.\u001b[0m\u001b[0mexpect\u001b[0m\u001b[0;34m[\u001b[0m\u001b[0;36m2\u001b[0m\u001b[0;34m]\u001b[0m\u001b[0;34m\u001b[0m\u001b[0m\n",
        "\u001b[0;32m/opt/local/Library/Frameworks/Python.framework/Versions/3.4/lib/python3.4/site-packages/qutip/mesolve.py\u001b[0m in \u001b[0;36mmesolve\u001b[0;34m(H, rho0, tlist, c_ops, e_ops, args, options, progress_bar)\u001b[0m\n\u001b[1;32m    300\u001b[0m                 res = _mesolve_list_str_td(H, rho0, tlist, c_ops,\n\u001b[1;32m    301\u001b[0m                                            \u001b[0me_ops\u001b[0m\u001b[0;34m,\u001b[0m \u001b[0margs\u001b[0m\u001b[0;34m,\u001b[0m \u001b[0moptions\u001b[0m\u001b[0;34m,\u001b[0m\u001b[0;34m\u001b[0m\u001b[0m\n\u001b[0;32m--> 302\u001b[0;31m                                            progress_bar)\n\u001b[0m\u001b[1;32m    303\u001b[0m \u001b[0;34m\u001b[0m\u001b[0m\n\u001b[1;32m    304\u001b[0m         \u001b[0;32melse\u001b[0m\u001b[0;34m:\u001b[0m\u001b[0;34m\u001b[0m\u001b[0m\n",
        "\u001b[0;32m/opt/local/Library/Frameworks/Python.framework/Versions/3.4/lib/python3.4/site-packages/qutip/mesolve.py\u001b[0m in \u001b[0;36m_mesolve_list_str_td\u001b[0;34m(H_list, rho0, tlist, c_list, e_ops, args, opt, progress_bar)\u001b[0m\n\u001b[1;32m    534\u001b[0m         \u001b[0;32melse\u001b[0m\u001b[0;34m:\u001b[0m\u001b[0;34m\u001b[0m\u001b[0m\n\u001b[1;32m    535\u001b[0m             raise TypeError(\"Incorrect specification of time-dependent \" +\n\u001b[0;32m--> 536\u001b[0;31m                             \"Hamiltonian (expected string format)\")\n\u001b[0m\u001b[1;32m    537\u001b[0m \u001b[0;34m\u001b[0m\u001b[0m\n\u001b[1;32m    538\u001b[0m     \u001b[0;31m# loop over all collapse operators\u001b[0m\u001b[0;34m\u001b[0m\u001b[0;34m\u001b[0m\u001b[0m\n",
        "\u001b[0;31mTypeError\u001b[0m: Incorrect specification of time-dependent Hamiltonian (expected string format)"
       ]
      }
     ],
     "prompt_number": 6
    },
    {
     "cell_type": "code",
     "collapsed": false,
     "input": [
      "fig, ax = plt.subplots(figsize=(12,6))\n",
      "ax.plot(tlist, np.real(sx1), 'r')\n",
      "ax.plot(tlist, np.real(sy1), 'b')\n",
      "ax.plot(tlist, np.real(sz1), 'g')\n",
      "ax.legend((\"sx\", \"sy\", \"sz\"))\n",
      "ax.set_xlabel('Time')\n",
      "ax.set_ylabel('expectation value');"
     ],
     "language": "python",
     "metadata": {},
     "outputs": []
    }
   ],
   "metadata": {}
  }
 ]
}