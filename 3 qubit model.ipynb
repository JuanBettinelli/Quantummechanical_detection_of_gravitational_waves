{
 "metadata": {
  "name": "",
  "signature": "sha256:52c17627c28e853f916f75d31780cd74f11f89ce315ecf7f4686b680101316a0"
 },
 "nbformat": 3,
 "nbformat_minor": 0,
 "worksheets": [
  {
   "cells": [
    {
     "cell_type": "code",
     "collapsed": false,
     "input": [
      "%matplotlib inline \n",
      "import matplotlib.pyplot as plt\n",
      "import numpy as np\n",
      "from qutip import *"
     ],
     "language": "python",
     "metadata": {},
     "outputs": [],
     "prompt_number": 10
    },
    {
     "cell_type": "code",
     "collapsed": false,
     "input": [
      "sz1 = sigmaz()\n",
      "sz2 = sigmaz()\n",
      "sz3 = sigmaz()\n",
      "sx1 = sigmax()\n",
      "sx2 = sigmaz()\n",
      "sx3 = sigmaz()\n",
      "w1 = 1.0*2*np.pi\n",
      "w2 = 1.0*2*np.pi\n",
      "w3 = 1.0*2*np.pi\n",
      "x1 = 0\n",
      "x2 = 1*10**-9\n",
      "x3 = 2*10**-9\n",
      "c = 3**8\n",
      "tlist = np.linspace(0,5,200)\n",
      "E0 = 10**-3\n",
      "W = 0.5*10**5\n",
      "psi0 = basis(2,0)\n",
      "e_ops = [sigmax(), sigmay(), sigmaz()]\n",
      "H = 0"
     ],
     "language": "python",
     "metadata": {},
     "outputs": [],
     "prompt_number": 13
    },
    {
     "cell_type": "code",
     "collapsed": false,
     "input": [
      "H0 = -w1*sz1/3 -w2*sz2/3-w3*sz3/3\n",
      "H1 =  sx1*sx2\n",
      "H2 =  sx2*sx3\n",
      "E12 = (E0/2)*(np.cos(W*x1/c-W*tlist)-np.cos(W*x2/c-W*tlist)+1*10**-9)\n",
      "E23 = (E0/2)*(np.cos(W*x2/c-W*tlist)-np.cos(W*x3/c-W*tlist)+1*10**-9)\n",
      "H = [H0,[H1,E12],[H2,E23]]\n",
      "H"
     ],
     "language": "python",
     "metadata": {},
     "outputs": [
      {
       "metadata": {},
       "output_type": "pyout",
       "prompt_number": 29,
       "text": [
        "[Quantum object: dims = [[2], [2]], shape = [2, 2], type = oper, isherm = True\n",
        " Qobj data =\n",
        " [[-6.28318531  0.        ]\n",
        "  [ 0.          6.28318531]],\n",
        " [Quantum object: dims = [[2], [2]], shape = [2, 2], type = oper, isherm = False\n",
        "  Qobj data =\n",
        "  [[ 0. -1.]\n",
        "   [ 1.  0.]],\n",
        "  array([  5.00000000e-13,   1.82681061e-12,   2.98748033e-12,\n",
        "           3.83685068e-12,   4.26857298e-12,   4.22861182e-12,\n",
        "           3.72196880e-12,   2.81233260e-12,   1.61289489e-12,\n",
        "           2.74164539e-13,  -1.03629959e-12,  -2.15447686e-12,\n",
        "          -2.94041368e-12,  -3.29574017e-12,  -3.17598288e-12,\n",
        "          -2.59613096e-12,  -1.62876000e-12,  -3.94948393e-13,\n",
        "           9.50877002e-13,   2.24026960e-12,   3.31184592e-12,\n",
        "           4.03148508e-12,   4.30911521e-12,   4.10998753e-12,\n",
        "           3.45902536e-12,   2.43770455e-12,   1.17385614e-12,\n",
        "          -1.74011846e-13,  -1.43719724e-12,  -2.45791847e-12,\n",
        "          -3.10841970e-12,  -3.30728264e-12,  -3.02961713e-12,\n",
        "          -2.31017648e-12,  -1.23900749e-12,   4.98197736e-14,\n",
        "           1.39499264e-12,   2.62814610e-12,   3.59493581e-12,\n",
        "           4.17435607e-12,   4.29388528e-12,   3.93856291e-12,\n",
        "           3.15286193e-12,   2.03512247e-12,   7.25243491e-13,\n",
        "          -6.12827497e-13,  -1.81161434e-12,  -2.72107413e-12,\n",
        "          -3.22737671e-12,  -3.26715206e-12,  -2.83542180e-12,\n",
        "          -1.98622228e-12,  -8.25841381e-13,   5.00485445e-13,\n",
        "           1.82801781e-12,   2.98933230e-12,   3.83907621e-12,\n",
        "           4.27089343e-12,   4.23073678e-12,   3.72363236e-12,\n",
        "           2.81305053e-12,   1.61296183e-12,   2.73572235e-13,\n",
        "          -1.03747715e-12,  -2.15609224e-12,  -2.94226461e-12,\n",
        "          -3.29759504e-12,  -3.17760955e-12,  -2.59732584e-12,\n",
        "          -1.62937346e-12,  -3.94903762e-13,   9.51574222e-13,\n",
        "           2.24153209e-12,   3.31351570e-12,   4.03335311e-12,\n",
        "           4.31094773e-12,   4.11155517e-12,   3.46013181e-12,\n",
        "           2.43821154e-12,   1.17369998e-12,  -1.75133338e-13,\n",
        "          -1.43946537e-12,  -2.46104946e-12,  -3.11202154e-12,\n",
        "          -3.31090456e-12,  -3.03280580e-12,  -2.31253271e-12,\n",
        "          -1.24023651e-12,   4.98718430e-14,   1.39631930e-12,\n",
        "           2.63058132e-12,   3.59817477e-12,   4.17799335e-12,\n",
        "           4.29746568e-12,   3.94163828e-12,   3.15504729e-12,\n",
        "           2.03614438e-12,   7.24974039e-13,  -6.14354553e-13,\n",
        "          -1.81420799e-12,  -2.72440968e-12,  -3.23103666e-12,\n",
        "          -3.27067834e-12,  -2.83837305e-12,  -1.98822912e-12,\n",
        "          -8.26652621e-13,   5.00970835e-13,   1.82847278e-12,\n",
        "           2.98970000e-12,   3.83931047e-12,   4.27096501e-12,\n",
        "           4.23063670e-12,   3.72337312e-12,   2.81266456e-12,\n",
        "           1.61249754e-12,   2.73087678e-13,  -1.03792135e-12,\n",
        "          -2.15644040e-12,  -2.94247328e-12,  -3.29763804e-12,\n",
        "          -3.17748151e-12,  -2.59704273e-12,  -1.62897078e-12,\n",
        "          -3.94431862e-13,   9.52056226e-13,   2.24196391e-12,\n",
        "           3.31384327e-12,   4.03353544e-12,   4.31096199e-12,\n",
        "           4.11139957e-12,   3.45982594e-12,   2.43779348e-12,\n",
        "           1.17322226e-12,  -1.75611012e-13,  -1.43988331e-12,\n",
        "          -2.46135516e-12,  -3.11217689e-12,  -3.31089005e-12,\n",
        "          -3.03262325e-12,  -2.31220502e-12,  -1.23980458e-12,\n",
        "           5.03538464e-14,   1.39679109e-12,   2.63098383e-12,\n",
        "           3.59845760e-12,   4.17812117e-12,   4.29742244e-12,\n",
        "           3.94142939e-12,   3.15469891e-12,   2.03570012e-12,\n",
        "           7.24489483e-13,  -6.14818737e-13,  -1.81459374e-12,\n",
        "          -2.72466864e-12,  -3.23113651e-12,  -3.27060652e-12,\n",
        "          -2.83813857e-12,  -1.98786136e-12,  -8.26197541e-13,\n",
        "           5.01456224e-13,   1.82892780e-12,   2.99006760e-12,\n",
        "           3.83954467e-12,   4.27103651e-12,   4.23053656e-12,\n",
        "           3.72311389e-12,   2.81227870e-12,   1.61203324e-12,\n",
        "           2.72603121e-13,  -1.03836549e-12,  -2.15678862e-12,\n",
        "          -2.94268189e-12,  -3.29768098e-12,  -3.17735339e-12,\n",
        "          -2.59675957e-12,  -1.62856810e-12,  -3.93960017e-13,\n",
        "           9.52538229e-13,   2.24239567e-12,   3.31417084e-12,\n",
        "           4.03371771e-12,   4.31097620e-12,   4.11124394e-12,\n",
        "           3.45951991e-12,   2.43737543e-12,   1.17274447e-12,\n",
        "          -1.76088796e-13,  -1.44030114e-12,  -2.46166086e-12,\n",
        "          -3.11233218e-12,  -3.31087547e-12,  -3.03244062e-12,\n",
        "          -2.31187723e-12,  -1.23937265e-12,   5.08359052e-14,\n",
        "           1.39726282e-12,   2.63138629e-12,   3.59874043e-12,\n",
        "           4.17824893e-12,   4.29737914e-12])],\n",
        " [Quantum object: dims = [[2], [2]], shape = [2, 2], type = oper, isherm = True\n",
        "  Qobj data =\n",
        "  [[ 1.  0.]\n",
        "   [ 0.  1.]], array([  5.00000056e-13,   1.82677108e-12,   2.98762877e-12,\n",
        "           3.83704980e-12,   4.26857298e-12,   4.22861182e-12,\n",
        "           3.72196886e-12,   2.81178077e-12,   1.61262921e-12,\n",
        "           2.74218440e-13,  -1.03593299e-12,  -2.15384348e-12,\n",
        "          -2.93959261e-12,  -3.29483427e-12,  -3.17598291e-12,\n",
        "          -2.59613096e-12,  -1.62876000e-12,  -3.94948393e-13,\n",
        "           9.50877002e-13,   2.24026960e-12,   3.31184598e-12,\n",
        "           4.03148508e-12,   4.30911521e-12,   4.10998753e-12,\n",
        "           3.45902530e-12,   2.43770455e-12,   1.17385608e-12,\n",
        "          -1.74655609e-13,  -1.43904748e-12,  -2.46074365e-12,\n",
        "          -3.11186617e-12,  -3.31091901e-12,  -3.03298826e-12,\n",
        "          -2.31286039e-12,  -1.24066839e-12,   4.93898397e-14,\n",
        "           1.39584745e-12,   2.63017876e-12,   3.59789183e-12,\n",
        "           4.17786548e-12,   4.29750886e-12,   3.94184709e-12,\n",
        "           3.15539568e-12,   2.03658863e-12,   7.25458596e-13,\n",
        "          -6.13890369e-13,  -1.81382219e-12,  -2.72415061e-12,\n",
        "          -3.23093677e-12,  -3.27075009e-12,  -2.83860747e-12,\n",
        "          -1.98859694e-12,  -8.27107646e-13,   5.00484501e-13,\n",
        "           1.82548339e-12,   2.98458176e-12,   3.83270395e-12,\n",
        "           4.26369708e-12,   4.22361705e-12,   3.71748034e-12,\n",
        "           2.80863623e-12,   1.61083781e-12,   2.74004278e-13,\n",
        "          -1.03454305e-12,  -2.15102340e-12,  -2.93569542e-12,\n",
        "          -3.29034772e-12,  -3.17059119e-12,  -2.59141485e-12,\n",
        "          -1.62530976e-12,  -3.93195906e-13,   9.50712412e-13,\n",
        "           2.23820858e-12,   3.30814644e-12,   4.02661009e-12,\n",
        "           4.30367493e-12,   4.10466287e-12,   3.45448277e-12,\n",
        "           2.43451255e-12,   1.17241435e-12,  -1.73844924e-13,\n",
        "          -1.43576422e-12,  -2.45539859e-12,  -3.10512839e-12,\n",
        "          -3.30363184e-12,  -3.02606380e-12,  -2.30716533e-12,\n",
        "          -1.23691544e-12,   5.07308781e-14,   1.39460872e-12,\n",
        "           2.62651530e-12,   3.59226217e-12,   4.17097430e-12,\n",
        "           4.29021861e-12,   3.93507026e-12,   3.14998046e-12,\n",
        "           2.03321283e-12,   7.24544716e-13,  -6.12227976e-13,\n",
        "          -1.80979158e-12,  -2.71825622e-12,  -3.22391637e-12,\n",
        "          -3.26348240e-12,  -2.83200212e-12,  -1.98348059e-12,\n",
        "          -8.26652621e-13,   5.00970890e-13,   1.82847283e-12,\n",
        "           2.98970000e-12,   3.83931049e-12,   4.27096501e-12,\n",
        "           4.23063669e-12,   3.72337307e-12,   2.81266462e-12,\n",
        "           1.61249754e-12,   2.73087622e-13,  -1.03792135e-12,\n",
        "          -2.15644051e-12,  -2.94247328e-12,  -3.29763804e-12,\n",
        "          -3.17748149e-12,  -2.59704268e-12,  -1.62897078e-12,\n",
        "          -3.94431917e-13,   9.52056226e-13,   2.24196396e-12,\n",
        "           3.31384333e-12,   4.03353546e-12,   4.31096200e-12,\n",
        "           4.11139960e-12,   3.45982588e-12,   2.43779343e-12,\n",
        "           1.17322220e-12,  -1.75611123e-13,  -1.43988331e-12,\n",
        "          -2.46135522e-12,  -3.11217689e-12,  -3.31089004e-12,\n",
        "          -3.03262325e-12,  -2.31220497e-12,  -1.23980458e-12,\n",
        "           5.03539019e-14,   1.39679109e-12,   2.63098383e-12,\n",
        "           3.59845766e-12,   4.17812120e-12,   4.29742244e-12,\n",
        "           3.94142939e-12,   3.15469891e-12,   2.03570012e-12,\n",
        "           7.24489483e-13,  -6.14818848e-13,  -1.81459374e-12,\n",
        "          -2.72466870e-12,  -3.23113651e-12,  -3.27060652e-12,\n",
        "          -2.83813854e-12,  -1.98786131e-12,  -8.26197541e-13,\n",
        "           5.01456280e-13,   1.82892780e-12,   2.99006765e-12,\n",
        "           3.83954472e-12,   4.27103652e-12,   4.23053655e-12,\n",
        "           3.72311383e-12,   2.81227865e-12,   1.61203324e-12,\n",
        "           2.72603065e-13,  -1.03836555e-12,  -2.15678868e-12,\n",
        "          -2.94268189e-12,  -3.29768097e-12,  -3.17735337e-12,\n",
        "          -2.59675957e-12,  -1.62856810e-12,  -3.93960017e-13,\n",
        "           9.52538229e-13,   2.24239567e-12,   3.31417079e-12,\n",
        "           4.03371771e-12,   4.31097620e-12,   4.11124394e-12,\n",
        "           3.45951991e-12,   2.43737537e-12,   1.17274442e-12,\n",
        "          -1.76088796e-13,  -1.44030120e-12,  -2.46166092e-12,\n",
        "          -3.11233218e-12,  -3.31087547e-12,  -3.03244065e-12,\n",
        "          -2.31187723e-12,  -1.23937265e-12,   5.08359052e-14,\n",
        "           1.39726293e-12,   2.63138635e-12,   3.59874049e-12,\n",
        "           4.17824896e-12,   4.29737914e-12])]]"
       ]
      }
     ],
     "prompt_number": 29
    },
    {
     "cell_type": "code",
     "collapsed": false,
     "input": [
      "output = mesolve(H, psi0, tlist, [], e_ops) "
     ],
     "language": "python",
     "metadata": {},
     "outputs": [],
     "prompt_number": 26
    },
    {
     "cell_type": "code",
     "collapsed": false,
     "input": [
      "#output.expect[2]"
     ],
     "language": "python",
     "metadata": {},
     "outputs": [],
     "prompt_number": 27
    },
    {
     "cell_type": "code",
     "collapsed": false,
     "input": [
      "plot_expectation_values(output);"
     ],
     "language": "python",
     "metadata": {},
     "outputs": [
      {
       "metadata": {},
       "output_type": "display_data",
       "png": "[encoded data removed]",
       "text": [
        "<matplotlib.figure.Figure at 0x10f3f4f60>"
       ]
      }
     ],
     "prompt_number": 28
    },
    {
     "cell_type": "code",
     "collapsed": false,
     "input": [
      "sxo = output.expect[0]\n",
      "syo = output.expect[1]\n",
      "szo = output.expect[2] \n",
      "\n",
      "fig, ax = plt.subplots(figsize=(12,6))\n",
      "ax.plot(tlist, np.real(sxo), 'r')\n",
      "ax.plot(tlist, np.real(syo), 'b')\n",
      "ax.plot(tlist, np.real(szo), 'g')"
     ],
     "language": "python",
     "metadata": {},
     "outputs": [
      {
       "metadata": {},
       "output_type": "pyout",
       "prompt_number": 20,
       "text": [
        "[<matplotlib.lines.Line2D at 0x10f529518>]"
       ]
      },
      {
       "metadata": {},
       "output_type": "display_data",
       "png": "[encoded data removed]",
       "text": [
        "<matplotlib.figure.Figure at 0x10f3cd828>"
       ]
      }
     ],
     "prompt_number": 20
    },
    {
     "cell_type": "code",
     "collapsed": false,
     "input": [],
     "language": "python",
     "metadata": {},
     "outputs": []
    }
   ],
   "metadata": {}
  }
 ]
}